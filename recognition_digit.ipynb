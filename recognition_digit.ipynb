{
 "cells": [
  {
   "cell_type": "code",
   "execution_count": 109,
   "metadata": {},
   "outputs": [],
   "source": [
    "import os\n",
    "import cv2\n",
    "import numpy as np\n",
    "import matplotlib.pyplot as plt\n",
    "from tensorflow.keras.models import load_model"
   ]
  },
  {
   "cell_type": "code",
   "execution_count": 110,
   "metadata": {},
   "outputs": [],
   "source": [
    "drawing_path = 'data/drawing'\n",
    "webcam_path = 'data/webcam'"
   ]
  },
  {
   "cell_type": "code",
   "execution_count": 111,
   "metadata": {},
   "outputs": [
    {
     "data": {
      "text/plain": [
       "(['pic0.png',\n",
       "  'pic1.png',\n",
       "  'pic2.png',\n",
       "  'pic3.png',\n",
       "  'pic4.png',\n",
       "  'pic4_1.png',\n",
       "  'pic5.png',\n",
       "  'pic6.png',\n",
       "  'pic7.png',\n",
       "  'pic8.png',\n",
       "  'pic8_2.png',\n",
       "  'pic9.png'],\n",
       " ['draw0.png',\n",
       "  'draw1.png',\n",
       "  'draw2.png',\n",
       "  'draw3.png',\n",
       "  'draw4.png',\n",
       "  'draw5.png',\n",
       "  'draw6.png',\n",
       "  'draw7.png',\n",
       "  'draw7_2.png',\n",
       "  'draw8.png',\n",
       "  'draw9.png',\n",
       "  'draw9_2.png'])"
      ]
     },
     "execution_count": 111,
     "metadata": {},
     "output_type": "execute_result"
    }
   ],
   "source": [
    "webcam_pics = os.listdir(webcam_path)\n",
    "drawing_pics = os.listdir(drawing_path)\n",
    "webcam_pics, drawing_pics"
   ]
  },
  {
   "cell_type": "code",
   "execution_count": 112,
   "metadata": {},
   "outputs": [],
   "source": [
    "def preprocess_webcam_image(image_path):\n",
    "    img = cv2.imread(image_path, cv2.IMREAD_GRAYSCALE)\n",
    "    img = cv2.resize(img, (28, 28))\n",
    "    img = img / 255.0\n",
    "    img = cv2.GaussianBlur(img, (5, 5), 0)\n",
    "    # print(img.shape)\n",
    "    # img = np.reshape(img, (28, 28))\n",
    "\n",
    "    return img"
   ]
  },
  {
   "cell_type": "code",
   "execution_count": 113,
   "metadata": {},
   "outputs": [],
   "source": [
    "def preprocess_drawing_image(image_path):\n",
    "    img = cv2.imread(image_path, cv2.IMREAD_UNCHANGED)\n",
    "    img = cv2.resize(img, (28, 28))\n",
    "    img = img.astype(float) / 255.0 \n",
    "\n",
    "    # Vérifier si l'image a un canal alpha (transparence)\n",
    "    if img.shape[2] == 4:\n",
    "\n",
    "        alpha_channel = img[:, :, 3]\n",
    "\n",
    "        transparent_mask = (alpha_channel == 0)\n",
    "\n",
    "        img[transparent_mask] = [255, 255, 255, 255]\n",
    "\n",
    "        img = img[:, :, :3]\n",
    "\n",
    "        cv2.imwrite('image_modifiee.png', img)\n",
    "\n",
    "        img = cv2.GaussianBlur(img, (3, 3), 0)\n",
    "\n",
    "        _, img= cv2.threshold(img, 127, 255, cv2.THRESH_BINARY)\n",
    "\n",
    "        print(\"Fond transparent remplacé par du blanc. Image enregistrée.\")\n",
    "    else:\n",
    "        print(\"L'image ne contient pas de canal alpha (transparence). Aucune modification nécessaire.\")\n",
    "\n",
    "    return img"
   ]
  },
  {
   "cell_type": "code",
   "execution_count": 114,
   "metadata": {},
   "outputs": [
    {
     "data": {
      "text/plain": [
       "(28, 28)"
      ]
     },
     "execution_count": 114,
     "metadata": {},
     "output_type": "execute_result"
    }
   ],
   "source": [
    "full_path = os.path.join(webcam_path, webcam_pics[0])\n",
    "processed_webcam_image = preprocess_webcam_image(full_path)\n",
    "processed_webcam_image.shape"
   ]
  },
  {
   "cell_type": "code",
   "execution_count": null,
   "metadata": {},
   "outputs": [],
   "source": [
    "full_path = os.path.join(drawing_path, drawing_pics[7])\n",
    "original_image = cv2.imread(full_path)\n",
    "processed_drawing_image = preprocess_drawing_image(full_path)"
   ]
  },
  {
   "cell_type": "code",
   "execution_count": null,
   "metadata": {},
   "outputs": [],
   "source": [
    "plt.plot()\n",
    "plt.imshow(processed_webcam_image, cmap=plt.get_cmap('gray'))\n",
    "plt.show()"
   ]
  },
  {
   "cell_type": "code",
   "execution_count": null,
   "metadata": {},
   "outputs": [],
   "source": [
    "model = load_model('mnist.keras')"
   ]
  },
  {
   "cell_type": "code",
   "execution_count": null,
   "metadata": {},
   "outputs": [],
   "source": [
    "test_data = processed_webcam_image.reshape(1, 28, 28)"
   ]
  },
  {
   "cell_type": "code",
   "execution_count": null,
   "metadata": {},
   "outputs": [],
   "source": [
    "predictions = model.predict(test_data)\n",
    "predictions"
   ]
  },
  {
   "cell_type": "code",
   "execution_count": 122,
   "metadata": {},
   "outputs": [],
   "source": []
  },
  {
   "cell_type": "code",
   "execution_count": 124,
   "metadata": {},
   "outputs": [
    {
     "ename": "",
     "evalue": "",
     "output_type": "error",
     "traceback": [
      "\u001b[1;31mThe Kernel crashed while executing code in the current cell or a previous cell. \n",
      "\u001b[1;31mPlease review the code in the cell(s) to identify a possible cause of the failure. \n",
      "\u001b[1;31mClick <a href='https://aka.ms/vscodeJupyterKernelCrash'>here</a> for more info. \n",
      "\u001b[1;31mView Jupyter <a href='command:jupyter.viewOutput'>log</a> for further details."
     ]
    }
   ],
   "source": [
    "predictions_webcam = model.predict(processed_webcam_image)\n",
    "\n",
    "# Pour les images de dessin\n",
    "predictions_drawing = model.predict(processed_drawing_image)"
   ]
  },
  {
   "cell_type": "code",
   "execution_count": 107,
   "metadata": {},
   "outputs": [
    {
     "data": {
      "text/plain": [
       "3"
      ]
     },
     "execution_count": 107,
     "metadata": {},
     "output_type": "execute_result"
    }
   ],
   "source": [
    "predicted_digit = np.argmax(predictions)\n",
    "predicted_digit"
   ]
  },
  {
   "cell_type": "code",
   "execution_count": null,
   "metadata": {},
   "outputs": [],
   "source": []
  }
 ],
 "metadata": {
  "kernelspec": {
   "display_name": ".venv",
   "language": "python",
   "name": "python3"
  },
  "language_info": {
   "codemirror_mode": {
    "name": "ipython",
    "version": 3
   },
   "file_extension": ".py",
   "mimetype": "text/x-python",
   "name": "python",
   "nbconvert_exporter": "python",
   "pygments_lexer": "ipython3",
   "version": "3.11.8"
  }
 },
 "nbformat": 4,
 "nbformat_minor": 2
}
