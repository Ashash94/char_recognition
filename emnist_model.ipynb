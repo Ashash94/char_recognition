{
 "cells": [
  {
   "cell_type": "code",
   "execution_count": 5,
   "metadata": {},
   "outputs": [],
   "source": [
    "import matplotlib.pyplot as plt\n",
    "import tensorflow as tf\n",
    "from tensorflow.keras import layers, models\n",
    "from emnist import list_datasets, extract_training_samples,extract_test_samples\n",
    "from tensorflow.keras.utils import to_categorical\n",
    "from tensorflow.keras.callbacks import EarlyStopping, ReduceLROnPlateau,ModelCheckpoint\n",
    "import keras\n",
    "from sklearn.model_selection import train_test_split\n",
    "import seaborn as sns\n",
    "import numpy as np"
   ]
  },
  {
   "cell_type": "code",
   "execution_count": 6,
   "metadata": {},
   "outputs": [
    {
     "data": {
      "text/plain": [
       "['balanced', 'byclass', 'bymerge', 'digits', 'letters', 'mnist']"
      ]
     },
     "execution_count": 6,
     "metadata": {},
     "output_type": "execute_result"
    }
   ],
   "source": [
    "list_datasets()"
   ]
  },
  {
   "cell_type": "code",
   "execution_count": 7,
   "metadata": {},
   "outputs": [
    {
     "data": {
      "text/plain": [
       "(240000,)"
      ]
     },
     "execution_count": 7,
     "metadata": {},
     "output_type": "execute_result"
    }
   ],
   "source": [
    "train_images, train_labels = extract_training_samples('letters')\n",
    "train_images.shape\n",
    "(240000, 28, 28)\n",
    "train_labels.shape\n",
    "(240000,)"
   ]
  },
  {
   "cell_type": "code",
   "execution_count": 8,
   "metadata": {},
   "outputs": [
    {
     "data": {
      "text/plain": [
       "(40000,)"
      ]
     },
     "execution_count": 8,
     "metadata": {},
     "output_type": "execute_result"
    }
   ],
   "source": [
    "test_images, test_labels = extract_test_samples('letters')\n",
    "test_images.shape\n",
    "(40000, 28, 28)\n",
    "test_labels.shape\n",
    "(40000,)"
   ]
  },
  {
   "cell_type": "code",
   "execution_count": 9,
   "metadata": {},
   "outputs": [
    {
     "name": "stdout",
     "output_type": "stream",
     "text": [
      "(124800,)\n",
      "(124800, 28, 28)\n"
     ]
    }
   ],
   "source": [
    "#training_labels\n",
    "y1 = np.array(train_labels)\n",
    "x1 = np.array(train_images)\n",
    "#testing_labels\n",
    "y2 = np.array(test_labels)\n",
    "x2 = np.array(test_images)\n",
    "print(y1.shape)\n",
    "print(x1.shape)"
   ]
  },
  {
   "cell_type": "code",
   "execution_count": 10,
   "metadata": {},
   "outputs": [],
   "source": [
    "train_images = x1 / 255.0\n",
    "test_images = x2 / 255.0\n",
    "\n",
    "train_images_number = train_images.shape[0]\n",
    "train_images_height = 28\n",
    "train_images_width = 28\n",
    "train_images_size = train_images_height*train_images_width\n",
    "\n",
    "train_images = train_images.reshape(train_images_number, train_images_height, train_images_width, 1)\n",
    "\n",
    "test_images_number = test_images.shape[0]\n",
    "test_images_height = 28\n",
    "test_images_width = 28\n",
    "test_images_size = test_images_height*test_images_width\n",
    "\n",
    "test_images = test_images.reshape(test_images_number, test_images_height, test_images_width, 1)"
   ]
  },
  {
   "cell_type": "code",
   "execution_count": 11,
   "metadata": {},
   "outputs": [],
   "source": [
    "# Transform labels\n",
    "number_of_classes = 37\n",
    "\n",
    "y1 = tf.keras.utils.to_categorical(y1, number_of_classes)\n",
    "y2 = tf.keras.utils.to_categorical(y2, number_of_classes)"
   ]
  },
  {
   "cell_type": "code",
   "execution_count": 12,
   "metadata": {},
   "outputs": [],
   "source": [
    "train_x,test_x,train_y,test_y = train_test_split(train_images,y1,test_size=0.2,random_state = 42)"
   ]
  },
  {
   "cell_type": "code",
   "execution_count": 17,
   "metadata": {},
   "outputs": [],
   "source": [
    "model = tf.keras.Sequential([ \n",
    "    tf.keras.layers.Conv2D(16,3,input_shape=(28,28,1)),\n",
    "    tf.keras.layers.MaxPooling2D(2,2),\n",
    "    tf.keras.layers.Flatten(input_shape=(28,28,1)),\n",
    "    tf.keras.layers.Dropout(0.3),\n",
    "    tf.keras.layers.Dense(128,activation='relu'),\n",
    "    tf.keras.layers.Dropout(0.3),\n",
    "    tf.keras.layers.Dense(number_of_classes,activation='softmax')\n",
    "])"
   ]
  },
  {
   "cell_type": "code",
   "execution_count": 18,
   "metadata": {},
   "outputs": [],
   "source": [
    "model.compile(optimizer='rmsprop',loss='categorical_crossentropy',metrics=['accuracy'])"
   ]
  },
  {
   "cell_type": "code",
   "execution_count": 19,
   "metadata": {},
   "outputs": [],
   "source": [
    "MCP = ModelCheckpoint('Best_points.h5',verbose=1,save_best_only=True,monitor='val_accuracy',mode='max')\n",
    "ES = EarlyStopping(monitor='val_accuracy',min_delta=0,verbose=0,restore_best_weights = True,patience=3,mode='max')\n",
    "RLP = ReduceLROnPlateau(monitor='val_loss',patience=2,factor=0.2,min_lr=0.0001)"
   ]
  },
  {
   "cell_type": "code",
   "execution_count": 20,
   "metadata": {},
   "outputs": [
    {
     "name": "stdout",
     "output_type": "stream",
     "text": [
      "Epoch 1/4\n",
      "3116/3120 [============================>.] - ETA: 0s - loss: 0.8582 - accuracy: 0.7412\n",
      "Epoch 1: val_accuracy improved from -inf to 0.86819, saving model to Best_points.h5\n",
      "3120/3120 [==============================] - 37s 11ms/step - loss: 0.8577 - accuracy: 0.7413 - val_loss: 0.4262 - val_accuracy: 0.8682 - lr: 0.0010\n",
      "Epoch 2/4\n",
      "3118/3120 [============================>.] - ETA: 0s - loss: 0.5531 - accuracy: 0.8301\n",
      "Epoch 2: val_accuracy improved from 0.86819 to 0.88189, saving model to Best_points.h5\n",
      "3120/3120 [==============================] - 36s 11ms/step - loss: 0.5530 - accuracy: 0.8302 - val_loss: 0.3788 - val_accuracy: 0.8819 - lr: 0.0010\n",
      "Epoch 3/4\n",
      "3119/3120 [============================>.] - ETA: 0s - loss: 0.5041 - accuracy: 0.8461\n",
      "Epoch 3: val_accuracy improved from 0.88189 to 0.89062, saving model to Best_points.h5\n",
      "3120/3120 [==============================] - 37s 12ms/step - loss: 0.5041 - accuracy: 0.8461 - val_loss: 0.3559 - val_accuracy: 0.8906 - lr: 0.0010\n",
      "Epoch 4/4\n",
      "3117/3120 [============================>.] - ETA: 0s - loss: 0.4751 - accuracy: 0.8541\n",
      "Epoch 4: val_accuracy improved from 0.89062 to 0.89587, saving model to Best_points.h5\n",
      "3120/3120 [==============================] - 38s 12ms/step - loss: 0.4754 - accuracy: 0.8541 - val_loss: 0.3321 - val_accuracy: 0.8959 - lr: 0.0010\n"
     ]
    }
   ],
   "source": [
    "history = model.fit(train_x,train_y,epochs=4,validation_data=(test_x,test_y),callbacks=[MCP,ES,RLP])"
   ]
  }
 ],
 "metadata": {
  "kernelspec": {
   "display_name": ".venv",
   "language": "python",
   "name": "python3"
  },
  "language_info": {
   "codemirror_mode": {
    "name": "ipython",
    "version": 3
   },
   "file_extension": ".py",
   "mimetype": "text/x-python",
   "name": "python",
   "nbconvert_exporter": "python",
   "pygments_lexer": "ipython3",
   "version": "3.11.8"
  }
 },
 "nbformat": 4,
 "nbformat_minor": 2
}
